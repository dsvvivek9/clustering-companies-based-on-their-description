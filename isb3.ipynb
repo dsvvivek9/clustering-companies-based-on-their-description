{
  "nbformat": 4,
  "nbformat_minor": 0,
  "metadata": {
    "colab": {
      "name": "isb3.ipynb",
      "provenance": [],
      "collapsed_sections": []
    },
    "kernelspec": {
      "name": "python3",
      "display_name": "Python 3"
    }
  },
  "cells": [
    {
      "cell_type": "code",
      "metadata": {
        "id": "B08brk9nB0xi",
        "colab_type": "code",
        "outputId": "036ebe22-e6af-4cdf-8e78-49a786974df1",
        "colab": {
          "base_uri": "https://localhost:8080/",
          "height": 130
        }
      },
      "source": [
        "from google.colab import drive\n",
        "drive.mount('/content/drive')"
      ],
      "execution_count": 2,
      "outputs": [
        {
          "output_type": "stream",
          "text": [
            "Go to this URL in a browser: https://accounts.google.com/o/oauth2/auth?client_id=947318989803-6bn6qk8qdgf4n4g3pfee6491hc0brc4i.apps.googleusercontent.com&redirect_uri=urn%3aietf%3awg%3aoauth%3a2.0%3aoob&response_type=code&scope=email%20https%3a%2f%2fwww.googleapis.com%2fauth%2fdocs.test%20https%3a%2f%2fwww.googleapis.com%2fauth%2fdrive%20https%3a%2f%2fwww.googleapis.com%2fauth%2fdrive.photos.readonly%20https%3a%2f%2fwww.googleapis.com%2fauth%2fpeopleapi.readonly\n",
            "\n",
            "Enter your authorization code:\n",
            "··········\n",
            "Mounted at /content/drive\n"
          ],
          "name": "stdout"
        }
      ]
    },
    {
      "cell_type": "code",
      "metadata": {
        "id": "VsGFfBotFQvA",
        "colab_type": "code",
        "outputId": "cb521988-31e3-48bf-c7af-7802dcadeea7",
        "colab": {
          "base_uri": "https://localhost:8080/",
          "height": 35
        }
      },
      "source": [
        "cd drive"
      ],
      "execution_count": 3,
      "outputs": [
        {
          "output_type": "stream",
          "text": [
            "/content/drive\n"
          ],
          "name": "stdout"
        }
      ]
    },
    {
      "cell_type": "code",
      "metadata": {
        "id": "KF5QB4OeFWmc",
        "colab_type": "code",
        "outputId": "7e7a65a7-0a09-4a31-a23a-7842232a6cf2",
        "colab": {
          "base_uri": "https://localhost:8080/",
          "height": 35
        }
      },
      "source": [
        "cd My Drive"
      ],
      "execution_count": 4,
      "outputs": [
        {
          "output_type": "stream",
          "text": [
            "/content/drive/My Drive\n"
          ],
          "name": "stdout"
        }
      ]
    },
    {
      "cell_type": "code",
      "metadata": {
        "id": "8kPKjBzLFcLo",
        "colab_type": "code",
        "outputId": "c853a95e-5ba7-459c-e1c2-653cb1a67c4e",
        "colab": {
          "base_uri": "https://localhost:8080/",
          "height": 35
        }
      },
      "source": [
        "!pip3 install xlrd\n",
        "import pandas as pd"
      ],
      "execution_count": 5,
      "outputs": [
        {
          "output_type": "stream",
          "text": [
            "Requirement already satisfied: xlrd in /usr/local/lib/python3.6/dist-packages (1.1.0)\n"
          ],
          "name": "stdout"
        }
      ]
    },
    {
      "cell_type": "markdown",
      "metadata": {
        "id": "TA1nZz-xIYFU",
        "colab_type": "text"
      },
      "source": [
        "**READING DATA**"
      ]
    },
    {
      "cell_type": "code",
      "metadata": {
        "id": "s8089Q9HJ_Qs",
        "colab_type": "code",
        "outputId": "f4d6f7d2-cf57-4f41-f368-87762d724d21",
        "colab": {
          "base_uri": "https://localhost:8080/",
          "height": 55
        }
      },
      "source": [
        "import xlrd\n",
        "wb = xlrd.open_workbook(\"Company Descriptions.xlsx\")   \n",
        "sheet = wb.sheet_by_index(0)\n",
        "sheet.cell_value(19965, 1)"
      ],
      "execution_count": 6,
      "outputs": [
        {
          "output_type": "execute_result",
          "data": {
            "text/plain": [
              "'StackMob is a mobile platform helping developers create a mobile business by letting them build, deploy and grow mobile applications.'"
            ]
          },
          "metadata": {
            "tags": []
          },
          "execution_count": 6
        }
      ]
    },
    {
      "cell_type": "code",
      "metadata": {
        "id": "nnhm9jWgPraZ",
        "colab_type": "code",
        "outputId": "0965c39e-c56d-4786-9dd2-b5dd732d6f75",
        "colab": {
          "base_uri": "https://localhost:8080/",
          "height": 35
        }
      },
      "source": [
        "wb1 = xlrd.open_workbook(\"Industry Segments - Top 10 Keywords.xlsx\")\n",
        "sheet1 = wb1.sheet_by_index(0)\n",
        "sheet1.cell_value(1, 1)"
      ],
      "execution_count": 7,
      "outputs": [
        {
          "output_type": "execute_result",
          "data": {
            "text/plain": [
              "'Security, systems, video, surveillance, service, aircraft, military, system, technology, flight'"
            ]
          },
          "metadata": {
            "tags": []
          },
          "execution_count": 7
        }
      ]
    },
    {
      "cell_type": "markdown",
      "metadata": {
        "id": "KSPxuKUAIrEZ",
        "colab_type": "text"
      },
      "source": [
        "**TOKENISING KEYWORD DATA**"
      ]
    },
    {
      "cell_type": "code",
      "metadata": {
        "id": "xWLMX8ggQIEt",
        "colab_type": "code",
        "outputId": "865aabfe-fcb7-4c66-f477-e0a7b2dfd253",
        "colab": {
          "base_uri": "https://localhost:8080/",
          "height": 74
        }
      },
      "source": [
        "\n",
        "cla = []\n",
        "keyw = []\n",
        "#list = []\n",
        "for i in range(1,28):\n",
        "\n",
        "  st =  sheet1.cell_value(i, 1)\n",
        "  st1 = st.replace(',',' ')\n",
        "  cla.append(st1.split())\n",
        "  keyw = keyw + cla[i-1]\n",
        "  \n",
        "print(cla[0])  \n",
        "print(keyw)  "
      ],
      "execution_count": 8,
      "outputs": [
        {
          "output_type": "stream",
          "text": [
            "['Security', 'systems', 'video', 'surveillance', 'service', 'aircraft', 'military', 'system', 'technology', 'flight']\n",
            "['Security', 'systems', 'video', 'surveillance', 'service', 'aircraft', 'military', 'system', 'technology', 'flight', 'Service', 'cleantech', 'water', 'agriculture', 'traits', 'food', 'plant', 'crop', 'irrigation', 'agricultural', 'Developer', 'treatment', 'drug', 'diseases', 'technology', 'disease', 'cancer', 'drugs', 'development', 'therapeutics', 'Service', 'platform', 'online', 'management', 'data', 'marketing', 'advertising', 'technology', 'web', 'software', 'Service', 'wireless', 'network', 'data', 'internet', 'applications', 'technology', 'networks', 'mobile', 'systems', 'Service', 'cleantech', 'water', 'energy', 'waste', 'treatment', 'technology', 'environment', 'systems', 'management', 'Online', 'users', 'web', 'service', 'platform', 'social', 'site', 'content', 'mobile', 'search', 'Technology', 'storage', 'energy', 'systems', 'applications', 'data', 'developer', 'power', 'efficiency', 'devices', 'Service', 'financial', 'payment', 'online', 'platform', 'credit', 'mobile', 'card', 'insurance', 'management', 'Food', 'organic', 'tea', 'beverages', 'ingredients', 'natural', 'drinks', 'coffee', 'juice', 'foods', 'Service', 'care', 'healthcare', 'health', 'management', 'medical', 'patients', 'treatment', 'centers', 'physicians', 'Water', 'energy', 'cleantech', 'efficiency', 'service', 'systems', 'home', 'led', 'consumer', 'lighting', 'Energy', 'technology', 'efficiency', 'cleantech', 'systems', 'applications', 'service', 'materials', 'industrial', 'system', 'Materials', 'technology', 'cleantech', 'applications', 'developer', 'service', 'process', 'energy', 'water', 'coatings', 'Content', 'online', 'service', 'platform', 'web', 'media', 'video', 'news', 'learning', 'technology', 'Developer', 'technology', 'devices', 'medical', 'treatment', 'device', 'system', 'patients', 'develops', 'patient', 'Healthcare', 'management', 'service', 'health', 'software', 'medical', 'patient', 'care', 'information', 'data', 'Gas', 'oil', 'natural', 'technology', 'service', 'cleantech', 'coal', 'exploration', 'power', 'energy', 'Skin', 'care', 'technology', 'accessories', 'online', 'performance', 'retailers', 'system', 'hair', 'service', 'Solar', 'cleantech', 'energy', 'generation', 'technology', 'power', 'energyelectricity', 'fuels', 'developer', 'fuel', 'Online', 'service', 'accessories', 'web', 'stores', 'customers', 'platform', 'apparel', 'site', 'retail', 'Technology', 'power', 'developer', 'semiconductor', 'applications', 'wireless', 'video', 'devices', 'integrated', 'digital', 'Software', 'service', 'management', 'data', 'platform', 'applications', 'mobile', 'technology', 'business', 'web', 'Travel', 'service', 'online', 'vacation', 'search', 'restaurants', 'platform', 'operator', 'web', 'users', 'Energy', 'water', 'power', 'service', 'efficiency', 'cleantech', 'management', 'technology', 'treatment', 'customers', 'Electric', 'vehicles', 'transportation', 'cleantech', 'service', 'systems', 'vehicle', 'energy', 'miles', 'drive', 'Transportation', 'management', 'shipping', 'service', 'containers', 'container', 'freight', 'online', 'sales', 'cargo']\n"
          ],
          "name": "stdout"
        }
      ]
    },
    {
      "cell_type": "markdown",
      "metadata": {
        "id": "gyCsLOvxIx5Q",
        "colab_type": "text"
      },
      "source": [
        ""
      ]
    },
    {
      "cell_type": "code",
      "metadata": {
        "id": "6v8dQNHmrYjh",
        "colab_type": "code",
        "outputId": "16e1ce91-2787-4f3f-b366-9c2aa9bac220",
        "colab": {
          "base_uri": "https://localhost:8080/",
          "height": 205
        }
      },
      "source": [
        "!pip install flashtext==1.8"
      ],
      "execution_count": 9,
      "outputs": [
        {
          "output_type": "stream",
          "text": [
            "Collecting flashtext==1.8\n",
            "  Downloading https://files.pythonhosted.org/packages/34/8d/0e75916c674181bd1b6474d30866de74ced9bcb1736a62b0306cc30cf8f0/flashtext-1.8.tar.gz\n",
            "Building wheels for collected packages: flashtext\n",
            "  Building wheel for flashtext (setup.py) ... \u001b[?25l\u001b[?25hdone\n",
            "  Created wheel for flashtext: filename=flashtext-1.8-py2.py3-none-any.whl size=6142 sha256=a0217795bdfc2b4f61fea49b2277a27cfb5f7a2212a055e9e48d3ebbf70ac55a\n",
            "  Stored in directory: /root/.cache/pip/wheels/c1/65/5e/962efede96fb210c96e15e019b553a741d334f720b6313e29a\n",
            "Successfully built flashtext\n",
            "Installing collected packages: flashtext\n",
            "Successfully installed flashtext-1.8\n"
          ],
          "name": "stdout"
        }
      ]
    },
    {
      "cell_type": "markdown",
      "metadata": {
        "id": "KGaySEf3IzOx",
        "colab_type": "text"
      },
      "source": [
        "**CREATING KEYWORD PROCESSOR OBJECT**"
      ]
    },
    {
      "cell_type": "code",
      "metadata": {
        "id": "gsJio3DkqNI3",
        "colab_type": "code",
        "outputId": "3c189b22-5ca1-4165-9d1f-4e2a5052022a",
        "colab": {
          "base_uri": "https://localhost:8080/",
          "height": 55
        }
      },
      "source": [
        "from flashtext.keyword import KeywordProcessor\n",
        "kp = [None]*28\n",
        "#print(type(KeywordProcessor()))\n",
        "kp[0]=KeywordProcessor()\n",
        "for word in keyw:\n",
        "    kp[0].add_keyword(word)\n",
        "for i in range(1,28):\n",
        "    kp[i]=KeywordProcessor()\n",
        "    for word in cla[i-1]:\n",
        "      kp[i].add_keyword(word)\n",
        "print(kp)"
      ],
      "execution_count": 10,
      "outputs": [
        {
          "output_type": "stream",
          "text": [
            "[<flashtext.keyword.KeywordProcessor object at 0x7f795b063ac8>, <flashtext.keyword.KeywordProcessor object at 0x7f795b07e550>, <flashtext.keyword.KeywordProcessor object at 0x7f795b078198>, <flashtext.keyword.KeywordProcessor object at 0x7f795b0780b8>, <flashtext.keyword.KeywordProcessor object at 0x7f797ded7278>, <flashtext.keyword.KeywordProcessor object at 0x7f797ded7128>, <flashtext.keyword.KeywordProcessor object at 0x7f797ded7048>, <flashtext.keyword.KeywordProcessor object at 0x7f797ded7160>, <flashtext.keyword.KeywordProcessor object at 0x7f797ded7080>, <flashtext.keyword.KeywordProcessor object at 0x7f797ded7208>, <flashtext.keyword.KeywordProcessor object at 0x7f797ded7198>, <flashtext.keyword.KeywordProcessor object at 0x7f797ded72b0>, <flashtext.keyword.KeywordProcessor object at 0x7f797ded72e8>, <flashtext.keyword.KeywordProcessor object at 0x7f797ded70b8>, <flashtext.keyword.KeywordProcessor object at 0x7f797df42f98>, <flashtext.keyword.KeywordProcessor object at 0x7f797df42d68>, <flashtext.keyword.KeywordProcessor object at 0x7f797df42e80>, <flashtext.keyword.KeywordProcessor object at 0x7f797df42ef0>, <flashtext.keyword.KeywordProcessor object at 0x7f797df42e48>, <flashtext.keyword.KeywordProcessor object at 0x7f797df42f28>, <flashtext.keyword.KeywordProcessor object at 0x7f797df42f60>, <flashtext.keyword.KeywordProcessor object at 0x7f797df42fd0>, <flashtext.keyword.KeywordProcessor object at 0x7f797df42eb8>, <flashtext.keyword.KeywordProcessor object at 0x7f797df42d30>, <flashtext.keyword.KeywordProcessor object at 0x7f797df42dd8>, <flashtext.keyword.KeywordProcessor object at 0x7f797df42da0>, <flashtext.keyword.KeywordProcessor object at 0x7f797df42e10>, <flashtext.keyword.KeywordProcessor object at 0x7f795a3d4240>]\n"
          ],
          "name": "stdout"
        }
      ]
    },
    {
      "cell_type": "markdown",
      "metadata": {
        "id": "UpW9qPYIJLRP",
        "colab_type": "text"
      },
      "source": [
        "**PERCENTAGE MATCHING**"
      ]
    },
    {
      "cell_type": "code",
      "metadata": {
        "id": "COM0Sz1du2oj",
        "colab_type": "code",
        "colab": {}
      },
      "source": [
        "def percentage1(dum0,dumx):\n",
        "    try:\n",
        "        ans=float(dumx)/float(dum0)\n",
        "        ans=ans*100\n",
        "    except:\n",
        "        return 0\n",
        "    else:\n",
        "        return ans"
      ],
      "execution_count": 0,
      "outputs": []
    },
    {
      "cell_type": "markdown",
      "metadata": {
        "id": "zKX2_YPZJQjB",
        "colab_type": "text"
      },
      "source": [
        "**FINDING** **CATEGORY** "
      ]
    },
    {
      "cell_type": "code",
      "metadata": {
        "id": "nyE9PNpMu65N",
        "colab_type": "code",
        "colab": {}
      },
      "source": [
        "def find_category(stri):\n",
        "  y = []\n",
        "  for i in range(1,29):\n",
        "    y.append(len(kp[i-1].extract_keywords(stri)))\n",
        "  Total_matches=y[0]\n",
        "  if(y[0]==0):\n",
        "    return -1\n",
        "  else:\n",
        "    per = []\n",
        "    for i in range(1,28):\n",
        "      per.append(float(percentage1(y[0],y[i])))\n",
        "    maxpos = per.index(max(per))\n",
        "    return maxpos  \n",
        "\n",
        "\n"
      ],
      "execution_count": 0,
      "outputs": []
    },
    {
      "cell_type": "code",
      "metadata": {
        "id": "QMXhnpK6Ub1V",
        "colab_type": "code",
        "colab": {}
      },
      "source": [
        "import csv\n",
        "row_list = [[\"company\",\"industry_segments\"]]\n",
        "for i in range(1,19966):\n",
        "  j=find_category(sheet.cell_value(i, 2))\n",
        "  #sheet1.cell_value(j+1, 0)\n",
        "  row_list.append([sheet.cell_value(i,0),sheet1.cell_value(j+1, 0)])\n",
        "with open('isb31latest.csv', 'w', newline='') as file:\n",
        "  writer = csv.writer(file)\n",
        "  writer.writerows(row_list) \n",
        "  \n",
        "  \n"
      ],
      "execution_count": 0,
      "outputs": []
    },
    {
      "cell_type": "code",
      "metadata": {
        "id": "o9LdpztxcJI_",
        "colab_type": "code",
        "outputId": "b19aff5d-29a7-4cd9-e1f2-54db20571a11",
        "colab": {
          "base_uri": "https://localhost:8080/",
          "height": 223
        }
      },
      "source": [
        "import pandas as pd\n",
        "from pandas import ExcelWriter\n",
        "from pandas import ExcelFile\n",
        "\n",
        "df = pd.read_excel('Company Descriptions.xlsx')\n",
        "\n",
        "print(\"Column headings:\")\n",
        "df.head()"
      ],
      "execution_count": 14,
      "outputs": [
        {
          "output_type": "stream",
          "text": [
            "Column headings:\n"
          ],
          "name": "stdout"
        },
        {
          "output_type": "execute_result",
          "data": {
            "text/html": [
              "<div>\n",
              "<style scoped>\n",
              "    .dataframe tbody tr th:only-of-type {\n",
              "        vertical-align: middle;\n",
              "    }\n",
              "\n",
              "    .dataframe tbody tr th {\n",
              "        vertical-align: top;\n",
              "    }\n",
              "\n",
              "    .dataframe thead th {\n",
              "        text-align: right;\n",
              "    }\n",
              "</style>\n",
              "<table border=\"1\" class=\"dataframe\">\n",
              "  <thead>\n",
              "    <tr style=\"text-align: right;\">\n",
              "      <th></th>\n",
              "      <th>company_name</th>\n",
              "      <th>company_short_description</th>\n",
              "      <th>company_description</th>\n",
              "    </tr>\n",
              "  </thead>\n",
              "  <tbody>\n",
              "    <tr>\n",
              "      <th>0</th>\n",
              "      <td>Codementor</td>\n",
              "      <td>Codementor is an online marketplace connecting...</td>\n",
              "      <td>Codementor provides live 1:1 help for software...</td>\n",
              "    </tr>\n",
              "    <tr>\n",
              "      <th>1</th>\n",
              "      <td>AgShift</td>\n",
              "      <td>AgShift is designing world's most advanced aut...</td>\n",
              "      <td>AgShift solution blends Deep Learning with Com...</td>\n",
              "    </tr>\n",
              "    <tr>\n",
              "      <th>2</th>\n",
              "      <td>Shipsi</td>\n",
              "      <td>Shipsi empowers any retailer with the ability ...</td>\n",
              "      <td>Shipsi empowers any retailer with the ability ...</td>\n",
              "    </tr>\n",
              "    <tr>\n",
              "      <th>3</th>\n",
              "      <td>OpenNews</td>\n",
              "      <td>OpenNews helps a global network of developers,...</td>\n",
              "      <td>We're helping a global network of developers, ...</td>\n",
              "    </tr>\n",
              "    <tr>\n",
              "      <th>4</th>\n",
              "      <td>Biobot Analytics</td>\n",
              "      <td>Biobot Analytics analyzes city sewage to estim...</td>\n",
              "      <td>Biobot Analytics analyzes sewage to estimate o...</td>\n",
              "    </tr>\n",
              "  </tbody>\n",
              "</table>\n",
              "</div>"
            ],
            "text/plain": [
              "       company_name  ...                                company_description\n",
              "0        Codementor  ...  Codementor provides live 1:1 help for software...\n",
              "1           AgShift  ...  AgShift solution blends Deep Learning with Com...\n",
              "2            Shipsi  ...  Shipsi empowers any retailer with the ability ...\n",
              "3          OpenNews  ...  We're helping a global network of developers, ...\n",
              "4  Biobot Analytics  ...  Biobot Analytics analyzes sewage to estimate o...\n",
              "\n",
              "[5 rows x 3 columns]"
            ]
          },
          "metadata": {
            "tags": []
          },
          "execution_count": 14
        }
      ]
    },
    {
      "cell_type": "markdown",
      "metadata": {
        "id": "Z5zRtanmJyF8",
        "colab_type": "text"
      },
      "source": [
        "\"**TF-IDF** ***VECTORISATION*** "
      ]
    },
    {
      "cell_type": "code",
      "metadata": {
        "id": "ESOYECkigJwG",
        "colab_type": "code",
        "colab": {}
      },
      "source": [
        "import numpy as np\n",
        "import pandas as pd\n",
        "import matplotlib.pyplot as plt\n",
        "import matplotlib.cm as cm\n",
        "\n",
        "from sklearn.cluster import MiniBatchKMeans\n",
        "from sklearn.feature_extraction.text import TfidfVectorizer\n",
        "from sklearn.decomposition import PCA\n",
        "from sklearn.manifold import TSNE\n",
        "\n",
        "tfidf = TfidfVectorizer(\n",
        "    min_df = 5,\n",
        "    max_df = 0.95,\n",
        "    max_features = 8000,\n",
        "    stop_words = 'english'\n",
        ")\n",
        "tfidf.fit(df.company_description.astype('U'))\n",
        "text = tfidf.transform(df.company_description.astype('U'))"
      ],
      "execution_count": 0,
      "outputs": []
    },
    {
      "cell_type": "markdown",
      "metadata": {
        "id": "sH5jaraFKMIa",
        "colab_type": "text"
      },
      "source": [
        "**FINDING OPTIMAL CLUSTERS**"
      ]
    },
    {
      "cell_type": "code",
      "metadata": {
        "id": "tpcw_RxXgt0o",
        "colab_type": "code",
        "outputId": "cf7bc43c-d5e6-41c5-9756-586f10b285c0",
        "colab": {
          "base_uri": "https://localhost:8080/",
          "height": 481
        }
      },
      "source": [
        "def find_optimal_clusters(data, max_k):\n",
        "    iters = range(2, max_k+1, 2)\n",
        "    \n",
        "    sse = []\n",
        "    for k in iters:\n",
        "        sse.append(MiniBatchKMeans(n_clusters=k, init_size=1024, batch_size=2048, random_state=20).fit(data).inertia_)\n",
        "        print('Fit {} clusters'.format(k))\n",
        "        \n",
        "    f, ax = plt.subplots(1, 1)\n",
        "    ax.plot(iters, sse, marker='o')\n",
        "    ax.set_xlabel('Cluster Centers')\n",
        "    ax.set_xticks(iters)\n",
        "    ax.set_xticklabels(iters)\n",
        "    ax.set_ylabel('SSE')\n",
        "    ax.set_title('SSE by Cluster Center Plot')\n",
        "find_optimal_clusters(text, 20)    "
      ],
      "execution_count": 16,
      "outputs": [
        {
          "output_type": "stream",
          "text": [
            "Fit 2 clusters\n",
            "Fit 4 clusters\n",
            "Fit 6 clusters\n",
            "Fit 8 clusters\n",
            "Fit 10 clusters\n",
            "Fit 12 clusters\n",
            "Fit 14 clusters\n",
            "Fit 16 clusters\n",
            "Fit 18 clusters\n",
            "Fit 20 clusters\n"
          ],
          "name": "stdout"
        },
        {
          "output_type": "display_data",
          "data": {
            "image/png": "[encoded data removed]",
            "text/plain": [
              "<Figure size 432x288 with 1 Axes>"
            ]
          },
          "metadata": {
            "tags": [],
            "needs_background": "light"
          }
        }
      ]
    },
    {
      "cell_type": "markdown",
      "metadata": {
        "id": "J7H4BnMp1VmW",
        "colab_type": "text"
      },
      "source": [
        "By elbow method number of clusters is 4"
      ]
    },
    {
      "cell_type": "code",
      "metadata": {
        "id": "A-N9of6PhN8o",
        "colab_type": "code",
        "colab": {}
      },
      "source": [
        "clusters = MiniBatchKMeans(n_clusters=4, init_size=1024, batch_size=2048, random_state=20).fit_predict(text)"
      ],
      "execution_count": 0,
      "outputs": []
    },
    {
      "cell_type": "code",
      "metadata": {
        "id": "3IZ6OhwGhW0T",
        "colab_type": "code",
        "outputId": "c697f5a1-27cd-4c6c-8af4-ccf1da97e240",
        "colab": {
          "base_uri": "https://localhost:8080/",
          "height": 390
        }
      },
      "source": [
        "def plot_tsne_pca(data, labels):\n",
        "    max_label = max(labels)\n",
        "    max_items = np.random.choice(range(data.shape[0]), size=3000, replace=False)\n",
        "    \n",
        "    pca = PCA(n_components=2).fit_transform(data[max_items,:].todense())\n",
        "    tsne = TSNE().fit_transform(PCA(n_components=50).fit_transform(data[max_items,:].todense()))\n",
        "    \n",
        "    \n",
        "    idx = np.random.choice(range(pca.shape[0]), size=300, replace=False)\n",
        "    label_subset = labels[max_items]\n",
        "    label_subset = [cm.hsv(i/max_label) for i in label_subset[idx]]\n",
        "    \n",
        "    f, ax = plt.subplots(1, 2, figsize=(14, 6))\n",
        "    \n",
        "    ax[0].scatter(pca[idx, 0], pca[idx, 1], c=label_subset)\n",
        "    ax[0].set_title('PCA Cluster Plot')\n",
        "    \n",
        "    ax[1].scatter(tsne[idx, 0], tsne[idx, 1], c=label_subset)\n",
        "    ax[1].set_title('TSNE Cluster Plot')\n",
        "    \n",
        "plot_tsne_pca(text, clusters)"
      ],
      "execution_count": 24,
      "outputs": [
        {
          "output_type": "display_data",
          "data": {
            "image/png": "[encoded data removed]",
            "text/plain": [
              "<Figure size 1008x432 with 2 Axes>"
            ]
          },
          "metadata": {
            "tags": [],
            "needs_background": "light"
          }
        }
      ]
    },
    {
      "cell_type": "code",
      "metadata": {
        "id": "QwnJFiejhkmJ",
        "colab_type": "code",
        "outputId": "d87fa2c9-0140-4707-c442-34578e147f16",
        "colab": {
          "base_uri": "https://localhost:8080/",
          "height": 241
        }
      },
      "source": [
        "def get_top_keywords(data, clusters, labels, n_terms):\n",
        "    df = pd.DataFrame(data.todense()).groupby(clusters).mean()\n",
        "    \n",
        "    for i,r in df.iterrows():\n",
        "        print('\\nCluster {}'.format(i))\n",
        "        print(','.join([labels[t] for t in np.argsort(r)[-n_terms:]]))\n",
        "            \n",
        "get_top_keywords(text, clusters, tfidf.get_feature_names(), 10)"
      ],
      "execution_count": 25,
      "outputs": [
        {
          "output_type": "stream",
          "text": [
            "\n",
            "Cluster 0\n",
            "people,new,world,based,com,online,technology,mobile,company,platform\n",
            "\n",
            "Cluster 1\n",
            "based,service,company,business,provides,management,software,services,solutions,data\n",
            "\n",
            "Cluster 2\n",
            "esports,espn,especially,escape,errors,error,erp,established,zynga,nan\n",
            "\n",
            "Cluster 3\n",
            "diseases,development,therapeutics,care,clinical,health,patients,treatment,medical,company\n"
          ],
          "name": "stdout"
        }
      ]
    },
    {
      "cell_type": "code",
      "metadata": {
        "id": "YYvanot_h5L8",
        "colab_type": "code",
        "colab": {}
      },
      "source": [
        "import csv\n",
        "row_list = [[\"company\",\"cluster\"]]\n",
        "for i in range(1,19966):\n",
        "  j=clusters[i-1]\n",
        "  #sheet1.cell_value(j+1, 0)\n",
        "  row_list.append([sheet.cell_value(i,0),j])\n",
        "with open('isb32lat.csv', 'w', newline='') as file:\n",
        "  writer = csv.writer(file)\n",
        "  writer.writerows(row_list)"
      ],
      "execution_count": 0,
      "outputs": []
    }
  ]
}